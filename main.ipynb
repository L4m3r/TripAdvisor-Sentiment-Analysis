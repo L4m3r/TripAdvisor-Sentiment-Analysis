{
  "cells": [
    {
      "cell_type": "code",
      "execution_count": 1,
      "id": "19c49626",
      "metadata": {
        "id": "19c49626"
      },
      "outputs": [],
      "source": [
        "import numpy as np\n",
        "import pandas as pd\n",
        "import matplotlib.pyplot as plt\n",
        "\n",
        "from sklearn.model_selection import train_test_split\n",
        "from sklearn.feature_extraction.text import TfidfVectorizer\n",
        "from sklearn import svm\n",
        "from sklearn import metrics\n",
        "\n",
        "import string\n",
        "import re\n",
        "from nltk.tokenize import WordPunctTokenizer"
      ]
    },
    {
      "cell_type": "code",
      "source": [
        "from google.colab import drive\n",
        "drive.mount('/content/drive')"
      ],
      "metadata": {
        "id": "WxHHdVPWKJl3",
        "outputId": "ccfb543c-579f-4b13-e181-da5505588bf4",
        "colab": {
          "base_uri": "https://localhost:8080/"
        }
      },
      "id": "WxHHdVPWKJl3",
      "execution_count": 2,
      "outputs": [
        {
          "output_type": "stream",
          "name": "stdout",
          "text": [
            "Mounted at /content/drive\n"
          ]
        }
      ]
    },
    {
      "cell_type": "code",
      "execution_count": 3,
      "id": "05442af3",
      "metadata": {
        "id": "05442af3",
        "outputId": "c23001a2-906b-4f4d-9c44-3339e3e01aac",
        "colab": {
          "base_uri": "https://localhost:8080/",
          "height": 206
        }
      },
      "outputs": [
        {
          "output_type": "execute_result",
          "data": {
            "text/plain": [
              "   rating_review                                        review_full\n",
              "0              5  Totally in love with the Auro of the place, re...\n",
              "1              5  I went this bar 8 days regularly with my husba...\n",
              "2              5  We were few friends and was a birthday celebra...\n",
              "3              5  Fatjar Cafe and Market is the perfect place fo...\n",
              "4              5  Hey Guys, if you are craving for pizza and sea..."
            ],
            "text/html": [
              "\n",
              "  <div id=\"df-d8ce71d4-605d-42ea-b3da-5508a2929ce2\">\n",
              "    <div class=\"colab-df-container\">\n",
              "      <div>\n",
              "<style scoped>\n",
              "    .dataframe tbody tr th:only-of-type {\n",
              "        vertical-align: middle;\n",
              "    }\n",
              "\n",
              "    .dataframe tbody tr th {\n",
              "        vertical-align: top;\n",
              "    }\n",
              "\n",
              "    .dataframe thead th {\n",
              "        text-align: right;\n",
              "    }\n",
              "</style>\n",
              "<table border=\"1\" class=\"dataframe\">\n",
              "  <thead>\n",
              "    <tr style=\"text-align: right;\">\n",
              "      <th></th>\n",
              "      <th>rating_review</th>\n",
              "      <th>review_full</th>\n",
              "    </tr>\n",
              "  </thead>\n",
              "  <tbody>\n",
              "    <tr>\n",
              "      <th>0</th>\n",
              "      <td>5</td>\n",
              "      <td>Totally in love with the Auro of the place, re...</td>\n",
              "    </tr>\n",
              "    <tr>\n",
              "      <th>1</th>\n",
              "      <td>5</td>\n",
              "      <td>I went this bar 8 days regularly with my husba...</td>\n",
              "    </tr>\n",
              "    <tr>\n",
              "      <th>2</th>\n",
              "      <td>5</td>\n",
              "      <td>We were few friends and was a birthday celebra...</td>\n",
              "    </tr>\n",
              "    <tr>\n",
              "      <th>3</th>\n",
              "      <td>5</td>\n",
              "      <td>Fatjar Cafe and Market is the perfect place fo...</td>\n",
              "    </tr>\n",
              "    <tr>\n",
              "      <th>4</th>\n",
              "      <td>5</td>\n",
              "      <td>Hey Guys, if you are craving for pizza and sea...</td>\n",
              "    </tr>\n",
              "  </tbody>\n",
              "</table>\n",
              "</div>\n",
              "      <button class=\"colab-df-convert\" onclick=\"convertToInteractive('df-d8ce71d4-605d-42ea-b3da-5508a2929ce2')\"\n",
              "              title=\"Convert this dataframe to an interactive table.\"\n",
              "              style=\"display:none;\">\n",
              "        \n",
              "  <svg xmlns=\"http://www.w3.org/2000/svg\" height=\"24px\"viewBox=\"0 0 24 24\"\n",
              "       width=\"24px\">\n",
              "    <path d=\"M0 0h24v24H0V0z\" fill=\"none\"/>\n",
              "    <path d=\"M18.56 5.44l.94 2.06.94-2.06 2.06-.94-2.06-.94-.94-2.06-.94 2.06-2.06.94zm-11 1L8.5 8.5l.94-2.06 2.06-.94-2.06-.94L8.5 2.5l-.94 2.06-2.06.94zm10 10l.94 2.06.94-2.06 2.06-.94-2.06-.94-.94-2.06-.94 2.06-2.06.94z\"/><path d=\"M17.41 7.96l-1.37-1.37c-.4-.4-.92-.59-1.43-.59-.52 0-1.04.2-1.43.59L10.3 9.45l-7.72 7.72c-.78.78-.78 2.05 0 2.83L4 21.41c.39.39.9.59 1.41.59.51 0 1.02-.2 1.41-.59l7.78-7.78 2.81-2.81c.8-.78.8-2.07 0-2.86zM5.41 20L4 18.59l7.72-7.72 1.47 1.35L5.41 20z\"/>\n",
              "  </svg>\n",
              "      </button>\n",
              "      \n",
              "  <style>\n",
              "    .colab-df-container {\n",
              "      display:flex;\n",
              "      flex-wrap:wrap;\n",
              "      gap: 12px;\n",
              "    }\n",
              "\n",
              "    .colab-df-convert {\n",
              "      background-color: #E8F0FE;\n",
              "      border: none;\n",
              "      border-radius: 50%;\n",
              "      cursor: pointer;\n",
              "      display: none;\n",
              "      fill: #1967D2;\n",
              "      height: 32px;\n",
              "      padding: 0 0 0 0;\n",
              "      width: 32px;\n",
              "    }\n",
              "\n",
              "    .colab-df-convert:hover {\n",
              "      background-color: #E2EBFA;\n",
              "      box-shadow: 0px 1px 2px rgba(60, 64, 67, 0.3), 0px 1px 3px 1px rgba(60, 64, 67, 0.15);\n",
              "      fill: #174EA6;\n",
              "    }\n",
              "\n",
              "    [theme=dark] .colab-df-convert {\n",
              "      background-color: #3B4455;\n",
              "      fill: #D2E3FC;\n",
              "    }\n",
              "\n",
              "    [theme=dark] .colab-df-convert:hover {\n",
              "      background-color: #434B5C;\n",
              "      box-shadow: 0px 1px 3px 1px rgba(0, 0, 0, 0.15);\n",
              "      filter: drop-shadow(0px 1px 2px rgba(0, 0, 0, 0.3));\n",
              "      fill: #FFFFFF;\n",
              "    }\n",
              "  </style>\n",
              "\n",
              "      <script>\n",
              "        const buttonEl =\n",
              "          document.querySelector('#df-d8ce71d4-605d-42ea-b3da-5508a2929ce2 button.colab-df-convert');\n",
              "        buttonEl.style.display =\n",
              "          google.colab.kernel.accessAllowed ? 'block' : 'none';\n",
              "\n",
              "        async function convertToInteractive(key) {\n",
              "          const element = document.querySelector('#df-d8ce71d4-605d-42ea-b3da-5508a2929ce2');\n",
              "          const dataTable =\n",
              "            await google.colab.kernel.invokeFunction('convertToInteractive',\n",
              "                                                     [key], {});\n",
              "          if (!dataTable) return;\n",
              "\n",
              "          const docLinkHtml = 'Like what you see? Visit the ' +\n",
              "            '<a target=\"_blank\" href=https://colab.research.google.com/notebooks/data_table.ipynb>data table notebook</a>'\n",
              "            + ' to learn more about interactive tables.';\n",
              "          element.innerHTML = '';\n",
              "          dataTable['output_type'] = 'display_data';\n",
              "          await google.colab.output.renderOutput(dataTable, element);\n",
              "          const docLink = document.createElement('div');\n",
              "          docLink.innerHTML = docLinkHtml;\n",
              "          element.appendChild(docLink);\n",
              "        }\n",
              "      </script>\n",
              "    </div>\n",
              "  </div>\n",
              "  "
            ]
          },
          "metadata": {},
          "execution_count": 3
        }
      ],
      "source": [
        "df = pd.read_csv('/content/drive/My Drive/Datasets/New_Delhi_reviews.csv')\n",
        "df.head()"
      ]
    },
    {
      "cell_type": "code",
      "execution_count": 4,
      "id": "151956d8",
      "metadata": {
        "id": "151956d8",
        "outputId": "6ee2d1aa-e105-4e2d-aca0-96e5d34691e8",
        "colab": {
          "base_uri": "https://localhost:8080/"
        }
      },
      "outputs": [
        {
          "output_type": "execute_result",
          "data": {
            "text/plain": [
              "(147581, 2)"
            ]
          },
          "metadata": {},
          "execution_count": 4
        }
      ],
      "source": [
        "df.shape"
      ]
    },
    {
      "cell_type": "code",
      "execution_count": 5,
      "id": "1e5e0148",
      "metadata": {
        "id": "1e5e0148",
        "outputId": "2f436a14-20bf-4b67-cd2f-a46977ba2c1f",
        "colab": {
          "base_uri": "https://localhost:8080/"
        }
      },
      "outputs": [
        {
          "output_type": "execute_result",
          "data": {
            "text/plain": [
              "rating_review    0\n",
              "review_full      2\n",
              "dtype: int64"
            ]
          },
          "metadata": {},
          "execution_count": 5
        }
      ],
      "source": [
        "df.isnull().sum()"
      ]
    },
    {
      "cell_type": "code",
      "execution_count": 6,
      "id": "8bb754b4",
      "metadata": {
        "id": "8bb754b4",
        "outputId": "31320a28-3260-43aa-fc92-fcc25d42bf08",
        "colab": {
          "base_uri": "https://localhost:8080/",
          "height": 112
        }
      },
      "outputs": [
        {
          "output_type": "execute_result",
          "data": {
            "text/plain": [
              "        rating_review review_full\n",
              "79882               3         NaN\n",
              "141165              5         NaN"
            ],
            "text/html": [
              "\n",
              "  <div id=\"df-1137fa4a-adcc-421e-847e-d8561b4a7edb\">\n",
              "    <div class=\"colab-df-container\">\n",
              "      <div>\n",
              "<style scoped>\n",
              "    .dataframe tbody tr th:only-of-type {\n",
              "        vertical-align: middle;\n",
              "    }\n",
              "\n",
              "    .dataframe tbody tr th {\n",
              "        vertical-align: top;\n",
              "    }\n",
              "\n",
              "    .dataframe thead th {\n",
              "        text-align: right;\n",
              "    }\n",
              "</style>\n",
              "<table border=\"1\" class=\"dataframe\">\n",
              "  <thead>\n",
              "    <tr style=\"text-align: right;\">\n",
              "      <th></th>\n",
              "      <th>rating_review</th>\n",
              "      <th>review_full</th>\n",
              "    </tr>\n",
              "  </thead>\n",
              "  <tbody>\n",
              "    <tr>\n",
              "      <th>79882</th>\n",
              "      <td>3</td>\n",
              "      <td>NaN</td>\n",
              "    </tr>\n",
              "    <tr>\n",
              "      <th>141165</th>\n",
              "      <td>5</td>\n",
              "      <td>NaN</td>\n",
              "    </tr>\n",
              "  </tbody>\n",
              "</table>\n",
              "</div>\n",
              "      <button class=\"colab-df-convert\" onclick=\"convertToInteractive('df-1137fa4a-adcc-421e-847e-d8561b4a7edb')\"\n",
              "              title=\"Convert this dataframe to an interactive table.\"\n",
              "              style=\"display:none;\">\n",
              "        \n",
              "  <svg xmlns=\"http://www.w3.org/2000/svg\" height=\"24px\"viewBox=\"0 0 24 24\"\n",
              "       width=\"24px\">\n",
              "    <path d=\"M0 0h24v24H0V0z\" fill=\"none\"/>\n",
              "    <path d=\"M18.56 5.44l.94 2.06.94-2.06 2.06-.94-2.06-.94-.94-2.06-.94 2.06-2.06.94zm-11 1L8.5 8.5l.94-2.06 2.06-.94-2.06-.94L8.5 2.5l-.94 2.06-2.06.94zm10 10l.94 2.06.94-2.06 2.06-.94-2.06-.94-.94-2.06-.94 2.06-2.06.94z\"/><path d=\"M17.41 7.96l-1.37-1.37c-.4-.4-.92-.59-1.43-.59-.52 0-1.04.2-1.43.59L10.3 9.45l-7.72 7.72c-.78.78-.78 2.05 0 2.83L4 21.41c.39.39.9.59 1.41.59.51 0 1.02-.2 1.41-.59l7.78-7.78 2.81-2.81c.8-.78.8-2.07 0-2.86zM5.41 20L4 18.59l7.72-7.72 1.47 1.35L5.41 20z\"/>\n",
              "  </svg>\n",
              "      </button>\n",
              "      \n",
              "  <style>\n",
              "    .colab-df-container {\n",
              "      display:flex;\n",
              "      flex-wrap:wrap;\n",
              "      gap: 12px;\n",
              "    }\n",
              "\n",
              "    .colab-df-convert {\n",
              "      background-color: #E8F0FE;\n",
              "      border: none;\n",
              "      border-radius: 50%;\n",
              "      cursor: pointer;\n",
              "      display: none;\n",
              "      fill: #1967D2;\n",
              "      height: 32px;\n",
              "      padding: 0 0 0 0;\n",
              "      width: 32px;\n",
              "    }\n",
              "\n",
              "    .colab-df-convert:hover {\n",
              "      background-color: #E2EBFA;\n",
              "      box-shadow: 0px 1px 2px rgba(60, 64, 67, 0.3), 0px 1px 3px 1px rgba(60, 64, 67, 0.15);\n",
              "      fill: #174EA6;\n",
              "    }\n",
              "\n",
              "    [theme=dark] .colab-df-convert {\n",
              "      background-color: #3B4455;\n",
              "      fill: #D2E3FC;\n",
              "    }\n",
              "\n",
              "    [theme=dark] .colab-df-convert:hover {\n",
              "      background-color: #434B5C;\n",
              "      box-shadow: 0px 1px 3px 1px rgba(0, 0, 0, 0.15);\n",
              "      filter: drop-shadow(0px 1px 2px rgba(0, 0, 0, 0.3));\n",
              "      fill: #FFFFFF;\n",
              "    }\n",
              "  </style>\n",
              "\n",
              "      <script>\n",
              "        const buttonEl =\n",
              "          document.querySelector('#df-1137fa4a-adcc-421e-847e-d8561b4a7edb button.colab-df-convert');\n",
              "        buttonEl.style.display =\n",
              "          google.colab.kernel.accessAllowed ? 'block' : 'none';\n",
              "\n",
              "        async function convertToInteractive(key) {\n",
              "          const element = document.querySelector('#df-1137fa4a-adcc-421e-847e-d8561b4a7edb');\n",
              "          const dataTable =\n",
              "            await google.colab.kernel.invokeFunction('convertToInteractive',\n",
              "                                                     [key], {});\n",
              "          if (!dataTable) return;\n",
              "\n",
              "          const docLinkHtml = 'Like what you see? Visit the ' +\n",
              "            '<a target=\"_blank\" href=https://colab.research.google.com/notebooks/data_table.ipynb>data table notebook</a>'\n",
              "            + ' to learn more about interactive tables.';\n",
              "          element.innerHTML = '';\n",
              "          dataTable['output_type'] = 'display_data';\n",
              "          await google.colab.output.renderOutput(dataTable, element);\n",
              "          const docLink = document.createElement('div');\n",
              "          docLink.innerHTML = docLinkHtml;\n",
              "          element.appendChild(docLink);\n",
              "        }\n",
              "      </script>\n",
              "    </div>\n",
              "  </div>\n",
              "  "
            ]
          },
          "metadata": {},
          "execution_count": 6
        }
      ],
      "source": [
        "df[df.isnull().any(axis=1)]"
      ]
    },
    {
      "cell_type": "code",
      "execution_count": 7,
      "id": "7a2a88ac",
      "metadata": {
        "id": "7a2a88ac"
      },
      "outputs": [],
      "source": [
        "df = df.dropna()"
      ]
    },
    {
      "cell_type": "code",
      "execution_count": 8,
      "id": "8c1ac8c2",
      "metadata": {
        "id": "8c1ac8c2",
        "outputId": "655e5c3b-6a88-4fda-bf73-0bc576a3bdc7",
        "colab": {
          "base_uri": "https://localhost:8080/"
        }
      },
      "outputs": [
        {
          "output_type": "execute_result",
          "data": {
            "text/plain": [
              "(147579, 2)"
            ]
          },
          "metadata": {},
          "execution_count": 8
        }
      ],
      "source": [
        "df.shape"
      ]
    },
    {
      "cell_type": "code",
      "execution_count": 9,
      "id": "535874fe",
      "metadata": {
        "id": "535874fe",
        "outputId": "d01e8eff-6e4e-46df-ec34-96a69d770ad5",
        "colab": {
          "base_uri": "https://localhost:8080/",
          "height": 430
        }
      },
      "outputs": [
        {
          "output_type": "display_data",
          "data": {
            "text/plain": [
              "<Figure size 640x480 with 1 Axes>"
            ],
            "image/png": "[encoded data removed]"
          },
          "metadata": {}
        }
      ],
      "source": [
        "plt.bar(df['rating_review'].unique(), df['rating_review'].value_counts())\n",
        "plt.show()"
      ]
    },
    {
      "cell_type": "markdown",
      "id": "8fbd9c56",
      "metadata": {
        "id": "8fbd9c56"
      },
      "source": [
        "# Text Preprocessing"
      ]
    },
    {
      "cell_type": "code",
      "execution_count": 10,
      "id": "e796173d",
      "metadata": {
        "id": "e796173d"
      },
      "outputs": [],
      "source": [
        "def find_pattern(text, pattern):\n",
        "    pattern = re.compile(pattern)\n",
        "    found = pattern.findall(text)\n",
        "    if found != []:\n",
        "        return True\n",
        "    return False\n",
        "\n",
        "def count_patterns(series, pattern) -> int:\n",
        "    return series.apply(lambda text: find_pattern(text, pattern)).sum()"
      ]
    },
    {
      "cell_type": "code",
      "execution_count": 11,
      "id": "8ad9e431",
      "metadata": {
        "id": "8ad9e431"
      },
      "outputs": [],
      "source": [
        "def remove_pattern(text, pattern):\n",
        "    pattern = re.compile(pattern)\n",
        "    return pattern.sub('', text)"
      ]
    },
    {
      "cell_type": "markdown",
      "id": "746e9b97",
      "metadata": {
        "id": "746e9b97"
      },
      "source": [
        "## Lower casing"
      ]
    },
    {
      "cell_type": "code",
      "execution_count": 12,
      "id": "f0ffd699",
      "metadata": {
        "id": "f0ffd699"
      },
      "outputs": [],
      "source": [
        "def lower_casing(text):\n",
        "    return text.lower()"
      ]
    },
    {
      "cell_type": "code",
      "execution_count": 13,
      "id": "18db507c",
      "metadata": {
        "id": "18db507c",
        "outputId": "1649a038-f663-43c6-c087-721b867f8b9b",
        "colab": {
          "base_uri": "https://localhost:8080/",
          "height": 206
        }
      },
      "outputs": [
        {
          "output_type": "execute_result",
          "data": {
            "text/plain": [
              "   rating_review                                        review_full  \\\n",
              "0              5  Totally in love with the Auro of the place, re...   \n",
              "1              5  I went this bar 8 days regularly with my husba...   \n",
              "2              5  We were few friends and was a birthday celebra...   \n",
              "3              5  Fatjar Cafe and Market is the perfect place fo...   \n",
              "4              5  Hey Guys, if you are craving for pizza and sea...   \n",
              "\n",
              "                                               lower  \n",
              "0  totally in love with the auro of the place, re...  \n",
              "1  i went this bar 8 days regularly with my husba...  \n",
              "2  we were few friends and was a birthday celebra...  \n",
              "3  fatjar cafe and market is the perfect place fo...  \n",
              "4  hey guys, if you are craving for pizza and sea...  "
            ],
            "text/html": [
              "\n",
              "  <div id=\"df-11b44c0c-4092-4bea-ac0d-a7ae813a5a39\">\n",
              "    <div class=\"colab-df-container\">\n",
              "      <div>\n",
              "<style scoped>\n",
              "    .dataframe tbody tr th:only-of-type {\n",
              "        vertical-align: middle;\n",
              "    }\n",
              "\n",
              "    .dataframe tbody tr th {\n",
              "        vertical-align: top;\n",
              "    }\n",
              "\n",
              "    .dataframe thead th {\n",
              "        text-align: right;\n",
              "    }\n",
              "</style>\n",
              "<table border=\"1\" class=\"dataframe\">\n",
              "  <thead>\n",
              "    <tr style=\"text-align: right;\">\n",
              "      <th></th>\n",
              "      <th>rating_review</th>\n",
              "      <th>review_full</th>\n",
              "      <th>lower</th>\n",
              "    </tr>\n",
              "  </thead>\n",
              "  <tbody>\n",
              "    <tr>\n",
              "      <th>0</th>\n",
              "      <td>5</td>\n",
              "      <td>Totally in love with the Auro of the place, re...</td>\n",
              "      <td>totally in love with the auro of the place, re...</td>\n",
              "    </tr>\n",
              "    <tr>\n",
              "      <th>1</th>\n",
              "      <td>5</td>\n",
              "      <td>I went this bar 8 days regularly with my husba...</td>\n",
              "      <td>i went this bar 8 days regularly with my husba...</td>\n",
              "    </tr>\n",
              "    <tr>\n",
              "      <th>2</th>\n",
              "      <td>5</td>\n",
              "      <td>We were few friends and was a birthday celebra...</td>\n",
              "      <td>we were few friends and was a birthday celebra...</td>\n",
              "    </tr>\n",
              "    <tr>\n",
              "      <th>3</th>\n",
              "      <td>5</td>\n",
              "      <td>Fatjar Cafe and Market is the perfect place fo...</td>\n",
              "      <td>fatjar cafe and market is the perfect place fo...</td>\n",
              "    </tr>\n",
              "    <tr>\n",
              "      <th>4</th>\n",
              "      <td>5</td>\n",
              "      <td>Hey Guys, if you are craving for pizza and sea...</td>\n",
              "      <td>hey guys, if you are craving for pizza and sea...</td>\n",
              "    </tr>\n",
              "  </tbody>\n",
              "</table>\n",
              "</div>\n",
              "      <button class=\"colab-df-convert\" onclick=\"convertToInteractive('df-11b44c0c-4092-4bea-ac0d-a7ae813a5a39')\"\n",
              "              title=\"Convert this dataframe to an interactive table.\"\n",
              "              style=\"display:none;\">\n",
              "        \n",
              "  <svg xmlns=\"http://www.w3.org/2000/svg\" height=\"24px\"viewBox=\"0 0 24 24\"\n",
              "       width=\"24px\">\n",
              "    <path d=\"M0 0h24v24H0V0z\" fill=\"none\"/>\n",
              "    <path d=\"M18.56 5.44l.94 2.06.94-2.06 2.06-.94-2.06-.94-.94-2.06-.94 2.06-2.06.94zm-11 1L8.5 8.5l.94-2.06 2.06-.94-2.06-.94L8.5 2.5l-.94 2.06-2.06.94zm10 10l.94 2.06.94-2.06 2.06-.94-2.06-.94-.94-2.06-.94 2.06-2.06.94z\"/><path d=\"M17.41 7.96l-1.37-1.37c-.4-.4-.92-.59-1.43-.59-.52 0-1.04.2-1.43.59L10.3 9.45l-7.72 7.72c-.78.78-.78 2.05 0 2.83L4 21.41c.39.39.9.59 1.41.59.51 0 1.02-.2 1.41-.59l7.78-7.78 2.81-2.81c.8-.78.8-2.07 0-2.86zM5.41 20L4 18.59l7.72-7.72 1.47 1.35L5.41 20z\"/>\n",
              "  </svg>\n",
              "      </button>\n",
              "      \n",
              "  <style>\n",
              "    .colab-df-container {\n",
              "      display:flex;\n",
              "      flex-wrap:wrap;\n",
              "      gap: 12px;\n",
              "    }\n",
              "\n",
              "    .colab-df-convert {\n",
              "      background-color: #E8F0FE;\n",
              "      border: none;\n",
              "      border-radius: 50%;\n",
              "      cursor: pointer;\n",
              "      display: none;\n",
              "      fill: #1967D2;\n",
              "      height: 32px;\n",
              "      padding: 0 0 0 0;\n",
              "      width: 32px;\n",
              "    }\n",
              "\n",
              "    .colab-df-convert:hover {\n",
              "      background-color: #E2EBFA;\n",
              "      box-shadow: 0px 1px 2px rgba(60, 64, 67, 0.3), 0px 1px 3px 1px rgba(60, 64, 67, 0.15);\n",
              "      fill: #174EA6;\n",
              "    }\n",
              "\n",
              "    [theme=dark] .colab-df-convert {\n",
              "      background-color: #3B4455;\n",
              "      fill: #D2E3FC;\n",
              "    }\n",
              "\n",
              "    [theme=dark] .colab-df-convert:hover {\n",
              "      background-color: #434B5C;\n",
              "      box-shadow: 0px 1px 3px 1px rgba(0, 0, 0, 0.15);\n",
              "      filter: drop-shadow(0px 1px 2px rgba(0, 0, 0, 0.3));\n",
              "      fill: #FFFFFF;\n",
              "    }\n",
              "  </style>\n",
              "\n",
              "      <script>\n",
              "        const buttonEl =\n",
              "          document.querySelector('#df-11b44c0c-4092-4bea-ac0d-a7ae813a5a39 button.colab-df-convert');\n",
              "        buttonEl.style.display =\n",
              "          google.colab.kernel.accessAllowed ? 'block' : 'none';\n",
              "\n",
              "        async function convertToInteractive(key) {\n",
              "          const element = document.querySelector('#df-11b44c0c-4092-4bea-ac0d-a7ae813a5a39');\n",
              "          const dataTable =\n",
              "            await google.colab.kernel.invokeFunction('convertToInteractive',\n",
              "                                                     [key], {});\n",
              "          if (!dataTable) return;\n",
              "\n",
              "          const docLinkHtml = 'Like what you see? Visit the ' +\n",
              "            '<a target=\"_blank\" href=https://colab.research.google.com/notebooks/data_table.ipynb>data table notebook</a>'\n",
              "            + ' to learn more about interactive tables.';\n",
              "          element.innerHTML = '';\n",
              "          dataTable['output_type'] = 'display_data';\n",
              "          await google.colab.output.renderOutput(dataTable, element);\n",
              "          const docLink = document.createElement('div');\n",
              "          docLink.innerHTML = docLinkHtml;\n",
              "          element.appendChild(docLink);\n",
              "        }\n",
              "      </script>\n",
              "    </div>\n",
              "  </div>\n",
              "  "
            ]
          },
          "metadata": {},
          "execution_count": 13
        }
      ],
      "source": [
        "df['lower'] = df['review_full'].apply(lambda text: lower_casing(text))\n",
        "df.head()"
      ]
    },
    {
      "cell_type": "markdown",
      "id": "2631cfba",
      "metadata": {
        "id": "2631cfba"
      },
      "source": [
        "## Removal of URLs"
      ]
    },
    {
      "cell_type": "code",
      "execution_count": 14,
      "id": "2a11d03e",
      "metadata": {
        "id": "2a11d03e",
        "outputId": "b70f7e9e-da6a-458b-8b99-dcac14bd6f98",
        "colab": {
          "base_uri": "https://localhost:8080/"
        }
      },
      "outputs": [
        {
          "output_type": "stream",
          "name": "stdout",
          "text": [
            "Amount of URLs: 84\n"
          ]
        }
      ],
      "source": [
        "URL_PATTERN = r'https?://\\S+|www\\.\\S+'\n",
        "print(\"Amount of URLs: {}\".format(count_patterns(df['lower'], URL_PATTERN)))"
      ]
    },
    {
      "cell_type": "code",
      "execution_count": 15,
      "id": "5e1d78cf",
      "metadata": {
        "scrolled": false,
        "id": "5e1d78cf",
        "outputId": "3490c677-d31a-4a7e-82f3-70eb37102ffe",
        "colab": {
          "base_uri": "https://localhost:8080/",
          "height": 206
        }
      },
      "outputs": [
        {
          "output_type": "execute_result",
          "data": {
            "text/plain": [
              "   rating_review                                        review_full  \\\n",
              "0              5  Totally in love with the Auro of the place, re...   \n",
              "1              5  I went this bar 8 days regularly with my husba...   \n",
              "2              5  We were few friends and was a birthday celebra...   \n",
              "3              5  Fatjar Cafe and Market is the perfect place fo...   \n",
              "4              5  Hey Guys, if you are craving for pizza and sea...   \n",
              "\n",
              "                                               lower  \\\n",
              "0  totally in love with the auro of the place, re...   \n",
              "1  i went this bar 8 days regularly with my husba...   \n",
              "2  we were few friends and was a birthday celebra...   \n",
              "3  fatjar cafe and market is the perfect place fo...   \n",
              "4  hey guys, if you are craving for pizza and sea...   \n",
              "\n",
              "                                        text_wo_urls  \n",
              "0  totally in love with the auro of the place, re...  \n",
              "1  i went this bar 8 days regularly with my husba...  \n",
              "2  we were few friends and was a birthday celebra...  \n",
              "3  fatjar cafe and market is the perfect place fo...  \n",
              "4  hey guys, if you are craving for pizza and sea...  "
            ],
            "text/html": [
              "\n",
              "  <div id=\"df-2e6719ea-3e19-423b-84a0-e4794e0350ae\">\n",
              "    <div class=\"colab-df-container\">\n",
              "      <div>\n",
              "<style scoped>\n",
              "    .dataframe tbody tr th:only-of-type {\n",
              "        vertical-align: middle;\n",
              "    }\n",
              "\n",
              "    .dataframe tbody tr th {\n",
              "        vertical-align: top;\n",
              "    }\n",
              "\n",
              "    .dataframe thead th {\n",
              "        text-align: right;\n",
              "    }\n",
              "</style>\n",
              "<table border=\"1\" class=\"dataframe\">\n",
              "  <thead>\n",
              "    <tr style=\"text-align: right;\">\n",
              "      <th></th>\n",
              "      <th>rating_review</th>\n",
              "      <th>review_full</th>\n",
              "      <th>lower</th>\n",
              "      <th>text_wo_urls</th>\n",
              "    </tr>\n",
              "  </thead>\n",
              "  <tbody>\n",
              "    <tr>\n",
              "      <th>0</th>\n",
              "      <td>5</td>\n",
              "      <td>Totally in love with the Auro of the place, re...</td>\n",
              "      <td>totally in love with the auro of the place, re...</td>\n",
              "      <td>totally in love with the auro of the place, re...</td>\n",
              "    </tr>\n",
              "    <tr>\n",
              "      <th>1</th>\n",
              "      <td>5</td>\n",
              "      <td>I went this bar 8 days regularly with my husba...</td>\n",
              "      <td>i went this bar 8 days regularly with my husba...</td>\n",
              "      <td>i went this bar 8 days regularly with my husba...</td>\n",
              "    </tr>\n",
              "    <tr>\n",
              "      <th>2</th>\n",
              "      <td>5</td>\n",
              "      <td>We were few friends and was a birthday celebra...</td>\n",
              "      <td>we were few friends and was a birthday celebra...</td>\n",
              "      <td>we were few friends and was a birthday celebra...</td>\n",
              "    </tr>\n",
              "    <tr>\n",
              "      <th>3</th>\n",
              "      <td>5</td>\n",
              "      <td>Fatjar Cafe and Market is the perfect place fo...</td>\n",
              "      <td>fatjar cafe and market is the perfect place fo...</td>\n",
              "      <td>fatjar cafe and market is the perfect place fo...</td>\n",
              "    </tr>\n",
              "    <tr>\n",
              "      <th>4</th>\n",
              "      <td>5</td>\n",
              "      <td>Hey Guys, if you are craving for pizza and sea...</td>\n",
              "      <td>hey guys, if you are craving for pizza and sea...</td>\n",
              "      <td>hey guys, if you are craving for pizza and sea...</td>\n",
              "    </tr>\n",
              "  </tbody>\n",
              "</table>\n",
              "</div>\n",
              "      <button class=\"colab-df-convert\" onclick=\"convertToInteractive('df-2e6719ea-3e19-423b-84a0-e4794e0350ae')\"\n",
              "              title=\"Convert this dataframe to an interactive table.\"\n",
              "              style=\"display:none;\">\n",
              "        \n",
              "  <svg xmlns=\"http://www.w3.org/2000/svg\" height=\"24px\"viewBox=\"0 0 24 24\"\n",
              "       width=\"24px\">\n",
              "    <path d=\"M0 0h24v24H0V0z\" fill=\"none\"/>\n",
              "    <path d=\"M18.56 5.44l.94 2.06.94-2.06 2.06-.94-2.06-.94-.94-2.06-.94 2.06-2.06.94zm-11 1L8.5 8.5l.94-2.06 2.06-.94-2.06-.94L8.5 2.5l-.94 2.06-2.06.94zm10 10l.94 2.06.94-2.06 2.06-.94-2.06-.94-.94-2.06-.94 2.06-2.06.94z\"/><path d=\"M17.41 7.96l-1.37-1.37c-.4-.4-.92-.59-1.43-.59-.52 0-1.04.2-1.43.59L10.3 9.45l-7.72 7.72c-.78.78-.78 2.05 0 2.83L4 21.41c.39.39.9.59 1.41.59.51 0 1.02-.2 1.41-.59l7.78-7.78 2.81-2.81c.8-.78.8-2.07 0-2.86zM5.41 20L4 18.59l7.72-7.72 1.47 1.35L5.41 20z\"/>\n",
              "  </svg>\n",
              "      </button>\n",
              "      \n",
              "  <style>\n",
              "    .colab-df-container {\n",
              "      display:flex;\n",
              "      flex-wrap:wrap;\n",
              "      gap: 12px;\n",
              "    }\n",
              "\n",
              "    .colab-df-convert {\n",
              "      background-color: #E8F0FE;\n",
              "      border: none;\n",
              "      border-radius: 50%;\n",
              "      cursor: pointer;\n",
              "      display: none;\n",
              "      fill: #1967D2;\n",
              "      height: 32px;\n",
              "      padding: 0 0 0 0;\n",
              "      width: 32px;\n",
              "    }\n",
              "\n",
              "    .colab-df-convert:hover {\n",
              "      background-color: #E2EBFA;\n",
              "      box-shadow: 0px 1px 2px rgba(60, 64, 67, 0.3), 0px 1px 3px 1px rgba(60, 64, 67, 0.15);\n",
              "      fill: #174EA6;\n",
              "    }\n",
              "\n",
              "    [theme=dark] .colab-df-convert {\n",
              "      background-color: #3B4455;\n",
              "      fill: #D2E3FC;\n",
              "    }\n",
              "\n",
              "    [theme=dark] .colab-df-convert:hover {\n",
              "      background-color: #434B5C;\n",
              "      box-shadow: 0px 1px 3px 1px rgba(0, 0, 0, 0.15);\n",
              "      filter: drop-shadow(0px 1px 2px rgba(0, 0, 0, 0.3));\n",
              "      fill: #FFFFFF;\n",
              "    }\n",
              "  </style>\n",
              "\n",
              "      <script>\n",
              "        const buttonEl =\n",
              "          document.querySelector('#df-2e6719ea-3e19-423b-84a0-e4794e0350ae button.colab-df-convert');\n",
              "        buttonEl.style.display =\n",
              "          google.colab.kernel.accessAllowed ? 'block' : 'none';\n",
              "\n",
              "        async function convertToInteractive(key) {\n",
              "          const element = document.querySelector('#df-2e6719ea-3e19-423b-84a0-e4794e0350ae');\n",
              "          const dataTable =\n",
              "            await google.colab.kernel.invokeFunction('convertToInteractive',\n",
              "                                                     [key], {});\n",
              "          if (!dataTable) return;\n",
              "\n",
              "          const docLinkHtml = 'Like what you see? Visit the ' +\n",
              "            '<a target=\"_blank\" href=https://colab.research.google.com/notebooks/data_table.ipynb>data table notebook</a>'\n",
              "            + ' to learn more about interactive tables.';\n",
              "          element.innerHTML = '';\n",
              "          dataTable['output_type'] = 'display_data';\n",
              "          await google.colab.output.renderOutput(dataTable, element);\n",
              "          const docLink = document.createElement('div');\n",
              "          docLink.innerHTML = docLinkHtml;\n",
              "          element.appendChild(docLink);\n",
              "        }\n",
              "      </script>\n",
              "    </div>\n",
              "  </div>\n",
              "  "
            ]
          },
          "metadata": {},
          "execution_count": 15
        }
      ],
      "source": [
        "df['text_wo_urls'] = df['lower'].apply(lambda text: remove_pattern(text, URL_PATTERN))\n",
        "df.head()"
      ]
    },
    {
      "cell_type": "markdown",
      "id": "dcbb922f",
      "metadata": {
        "id": "dcbb922f"
      },
      "source": [
        "## Removal @tags"
      ]
    },
    {
      "cell_type": "code",
      "execution_count": 16,
      "id": "d89c42e0",
      "metadata": {
        "id": "d89c42e0",
        "outputId": "45c43441-8937-430b-dca4-ba82eaa4de29",
        "colab": {
          "base_uri": "https://localhost:8080/"
        }
      },
      "outputs": [
        {
          "output_type": "stream",
          "name": "stdout",
          "text": [
            "Amount of @tags: 903\n"
          ]
        }
      ],
      "source": [
        "TAGS_PATTERN = r'@[\\w]*'\n",
        "print(\"Amount of @tags: {}\".format(count_patterns(df['text_wo_urls'], TAGS_PATTERN)))"
      ]
    },
    {
      "cell_type": "code",
      "execution_count": 17,
      "id": "373f6112",
      "metadata": {
        "id": "373f6112",
        "outputId": "c20f3e01-fed9-475b-8b6c-31f15887af47",
        "colab": {
          "base_uri": "https://localhost:8080/",
          "height": 206
        }
      },
      "outputs": [
        {
          "output_type": "execute_result",
          "data": {
            "text/plain": [
              "   rating_review                                        review_full  \\\n",
              "0              5  Totally in love with the Auro of the place, re...   \n",
              "1              5  I went this bar 8 days regularly with my husba...   \n",
              "2              5  We were few friends and was a birthday celebra...   \n",
              "3              5  Fatjar Cafe and Market is the perfect place fo...   \n",
              "4              5  Hey Guys, if you are craving for pizza and sea...   \n",
              "\n",
              "                                               lower  \\\n",
              "0  totally in love with the auro of the place, re...   \n",
              "1  i went this bar 8 days regularly with my husba...   \n",
              "2  we were few friends and was a birthday celebra...   \n",
              "3  fatjar cafe and market is the perfect place fo...   \n",
              "4  hey guys, if you are craving for pizza and sea...   \n",
              "\n",
              "                                        text_wo_urls  \\\n",
              "0  totally in love with the auro of the place, re...   \n",
              "1  i went this bar 8 days regularly with my husba...   \n",
              "2  we were few friends and was a birthday celebra...   \n",
              "3  fatjar cafe and market is the perfect place fo...   \n",
              "4  hey guys, if you are craving for pizza and sea...   \n",
              "\n",
              "                                        text_tagless  \n",
              "0  totally in love with the auro of the place, re...  \n",
              "1  i went this bar 8 days regularly with my husba...  \n",
              "2  we were few friends and was a birthday celebra...  \n",
              "3  fatjar cafe and market is the perfect place fo...  \n",
              "4  hey guys, if you are craving for pizza and sea...  "
            ],
            "text/html": [
              "\n",
              "  <div id=\"df-d4ff8367-4ccb-44b8-abc7-a2828872986c\">\n",
              "    <div class=\"colab-df-container\">\n",
              "      <div>\n",
              "<style scoped>\n",
              "    .dataframe tbody tr th:only-of-type {\n",
              "        vertical-align: middle;\n",
              "    }\n",
              "\n",
              "    .dataframe tbody tr th {\n",
              "        vertical-align: top;\n",
              "    }\n",
              "\n",
              "    .dataframe thead th {\n",
              "        text-align: right;\n",
              "    }\n",
              "</style>\n",
              "<table border=\"1\" class=\"dataframe\">\n",
              "  <thead>\n",
              "    <tr style=\"text-align: right;\">\n",
              "      <th></th>\n",
              "      <th>rating_review</th>\n",
              "      <th>review_full</th>\n",
              "      <th>lower</th>\n",
              "      <th>text_wo_urls</th>\n",
              "      <th>text_tagless</th>\n",
              "    </tr>\n",
              "  </thead>\n",
              "  <tbody>\n",
              "    <tr>\n",
              "      <th>0</th>\n",
              "      <td>5</td>\n",
              "      <td>Totally in love with the Auro of the place, re...</td>\n",
              "      <td>totally in love with the auro of the place, re...</td>\n",
              "      <td>totally in love with the auro of the place, re...</td>\n",
              "      <td>totally in love with the auro of the place, re...</td>\n",
              "    </tr>\n",
              "    <tr>\n",
              "      <th>1</th>\n",
              "      <td>5</td>\n",
              "      <td>I went this bar 8 days regularly with my husba...</td>\n",
              "      <td>i went this bar 8 days regularly with my husba...</td>\n",
              "      <td>i went this bar 8 days regularly with my husba...</td>\n",
              "      <td>i went this bar 8 days regularly with my husba...</td>\n",
              "    </tr>\n",
              "    <tr>\n",
              "      <th>2</th>\n",
              "      <td>5</td>\n",
              "      <td>We were few friends and was a birthday celebra...</td>\n",
              "      <td>we were few friends and was a birthday celebra...</td>\n",
              "      <td>we were few friends and was a birthday celebra...</td>\n",
              "      <td>we were few friends and was a birthday celebra...</td>\n",
              "    </tr>\n",
              "    <tr>\n",
              "      <th>3</th>\n",
              "      <td>5</td>\n",
              "      <td>Fatjar Cafe and Market is the perfect place fo...</td>\n",
              "      <td>fatjar cafe and market is the perfect place fo...</td>\n",
              "      <td>fatjar cafe and market is the perfect place fo...</td>\n",
              "      <td>fatjar cafe and market is the perfect place fo...</td>\n",
              "    </tr>\n",
              "    <tr>\n",
              "      <th>4</th>\n",
              "      <td>5</td>\n",
              "      <td>Hey Guys, if you are craving for pizza and sea...</td>\n",
              "      <td>hey guys, if you are craving for pizza and sea...</td>\n",
              "      <td>hey guys, if you are craving for pizza and sea...</td>\n",
              "      <td>hey guys, if you are craving for pizza and sea...</td>\n",
              "    </tr>\n",
              "  </tbody>\n",
              "</table>\n",
              "</div>\n",
              "      <button class=\"colab-df-convert\" onclick=\"convertToInteractive('df-d4ff8367-4ccb-44b8-abc7-a2828872986c')\"\n",
              "              title=\"Convert this dataframe to an interactive table.\"\n",
              "              style=\"display:none;\">\n",
              "        \n",
              "  <svg xmlns=\"http://www.w3.org/2000/svg\" height=\"24px\"viewBox=\"0 0 24 24\"\n",
              "       width=\"24px\">\n",
              "    <path d=\"M0 0h24v24H0V0z\" fill=\"none\"/>\n",
              "    <path d=\"M18.56 5.44l.94 2.06.94-2.06 2.06-.94-2.06-.94-.94-2.06-.94 2.06-2.06.94zm-11 1L8.5 8.5l.94-2.06 2.06-.94-2.06-.94L8.5 2.5l-.94 2.06-2.06.94zm10 10l.94 2.06.94-2.06 2.06-.94-2.06-.94-.94-2.06-.94 2.06-2.06.94z\"/><path d=\"M17.41 7.96l-1.37-1.37c-.4-.4-.92-.59-1.43-.59-.52 0-1.04.2-1.43.59L10.3 9.45l-7.72 7.72c-.78.78-.78 2.05 0 2.83L4 21.41c.39.39.9.59 1.41.59.51 0 1.02-.2 1.41-.59l7.78-7.78 2.81-2.81c.8-.78.8-2.07 0-2.86zM5.41 20L4 18.59l7.72-7.72 1.47 1.35L5.41 20z\"/>\n",
              "  </svg>\n",
              "      </button>\n",
              "      \n",
              "  <style>\n",
              "    .colab-df-container {\n",
              "      display:flex;\n",
              "      flex-wrap:wrap;\n",
              "      gap: 12px;\n",
              "    }\n",
              "\n",
              "    .colab-df-convert {\n",
              "      background-color: #E8F0FE;\n",
              "      border: none;\n",
              "      border-radius: 50%;\n",
              "      cursor: pointer;\n",
              "      display: none;\n",
              "      fill: #1967D2;\n",
              "      height: 32px;\n",
              "      padding: 0 0 0 0;\n",
              "      width: 32px;\n",
              "    }\n",
              "\n",
              "    .colab-df-convert:hover {\n",
              "      background-color: #E2EBFA;\n",
              "      box-shadow: 0px 1px 2px rgba(60, 64, 67, 0.3), 0px 1px 3px 1px rgba(60, 64, 67, 0.15);\n",
              "      fill: #174EA6;\n",
              "    }\n",
              "\n",
              "    [theme=dark] .colab-df-convert {\n",
              "      background-color: #3B4455;\n",
              "      fill: #D2E3FC;\n",
              "    }\n",
              "\n",
              "    [theme=dark] .colab-df-convert:hover {\n",
              "      background-color: #434B5C;\n",
              "      box-shadow: 0px 1px 3px 1px rgba(0, 0, 0, 0.15);\n",
              "      filter: drop-shadow(0px 1px 2px rgba(0, 0, 0, 0.3));\n",
              "      fill: #FFFFFF;\n",
              "    }\n",
              "  </style>\n",
              "\n",
              "      <script>\n",
              "        const buttonEl =\n",
              "          document.querySelector('#df-d4ff8367-4ccb-44b8-abc7-a2828872986c button.colab-df-convert');\n",
              "        buttonEl.style.display =\n",
              "          google.colab.kernel.accessAllowed ? 'block' : 'none';\n",
              "\n",
              "        async function convertToInteractive(key) {\n",
              "          const element = document.querySelector('#df-d4ff8367-4ccb-44b8-abc7-a2828872986c');\n",
              "          const dataTable =\n",
              "            await google.colab.kernel.invokeFunction('convertToInteractive',\n",
              "                                                     [key], {});\n",
              "          if (!dataTable) return;\n",
              "\n",
              "          const docLinkHtml = 'Like what you see? Visit the ' +\n",
              "            '<a target=\"_blank\" href=https://colab.research.google.com/notebooks/data_table.ipynb>data table notebook</a>'\n",
              "            + ' to learn more about interactive tables.';\n",
              "          element.innerHTML = '';\n",
              "          dataTable['output_type'] = 'display_data';\n",
              "          await google.colab.output.renderOutput(dataTable, element);\n",
              "          const docLink = document.createElement('div');\n",
              "          docLink.innerHTML = docLinkHtml;\n",
              "          element.appendChild(docLink);\n",
              "        }\n",
              "      </script>\n",
              "    </div>\n",
              "  </div>\n",
              "  "
            ]
          },
          "metadata": {},
          "execution_count": 17
        }
      ],
      "source": [
        "df['text_tagless'] = df['text_wo_urls'].apply(lambda text: remove_pattern(text, TAGS_PATTERN))\n",
        "df.head()"
      ]
    },
    {
      "cell_type": "markdown",
      "id": "e96ff172",
      "metadata": {
        "id": "e96ff172"
      },
      "source": [
        "## Removal of Punctuations"
      ]
    },
    {
      "cell_type": "code",
      "execution_count": 18,
      "id": "51556814",
      "metadata": {
        "id": "51556814",
        "outputId": "3f8af64d-c243-4cd5-feb6-10f13e3b6fc0",
        "colab": {
          "base_uri": "https://localhost:8080/"
        }
      },
      "outputs": [
        {
          "output_type": "stream",
          "name": "stdout",
          "text": [
            "Amount of Punctuations: 145256\n"
          ]
        }
      ],
      "source": [
        "PUNCT_PATTERN = \"[^a-zA-Z ]\"\n",
        "print(\"Amount of Punctuations: {}\".format(count_patterns(df['text_tagless'], PUNCT_PATTERN)))"
      ]
    },
    {
      "cell_type": "code",
      "execution_count": 19,
      "id": "188be55b",
      "metadata": {
        "scrolled": true,
        "id": "188be55b",
        "outputId": "046432eb-203e-4c35-d38c-983acf9a8fa2",
        "colab": {
          "base_uri": "https://localhost:8080/",
          "height": 206
        }
      },
      "outputs": [
        {
          "output_type": "execute_result",
          "data": {
            "text/plain": [
              "                                         review_full  \\\n",
              "0  Totally in love with the Auro of the place, re...   \n",
              "1  I went this bar 8 days regularly with my husba...   \n",
              "2  We were few friends and was a birthday celebra...   \n",
              "3  Fatjar Cafe and Market is the perfect place fo...   \n",
              "4  Hey Guys, if you are craving for pizza and sea...   \n",
              "\n",
              "                                        review_clear  \n",
              "0  totally in love with the auro of the place rea...  \n",
              "1  i went this bar  days regularly with my husban...  \n",
              "2  we were few friends and was a birthday celebra...  \n",
              "3  fatjar cafe and market is the perfect place fo...  \n",
              "4  hey guys if you are craving for pizza and sear...  "
            ],
            "text/html": [
              "\n",
              "  <div id=\"df-295b89d9-da99-4b0c-83e6-e001bc7104fc\">\n",
              "    <div class=\"colab-df-container\">\n",
              "      <div>\n",
              "<style scoped>\n",
              "    .dataframe tbody tr th:only-of-type {\n",
              "        vertical-align: middle;\n",
              "    }\n",
              "\n",
              "    .dataframe tbody tr th {\n",
              "        vertical-align: top;\n",
              "    }\n",
              "\n",
              "    .dataframe thead th {\n",
              "        text-align: right;\n",
              "    }\n",
              "</style>\n",
              "<table border=\"1\" class=\"dataframe\">\n",
              "  <thead>\n",
              "    <tr style=\"text-align: right;\">\n",
              "      <th></th>\n",
              "      <th>review_full</th>\n",
              "      <th>review_clear</th>\n",
              "    </tr>\n",
              "  </thead>\n",
              "  <tbody>\n",
              "    <tr>\n",
              "      <th>0</th>\n",
              "      <td>Totally in love with the Auro of the place, re...</td>\n",
              "      <td>totally in love with the auro of the place rea...</td>\n",
              "    </tr>\n",
              "    <tr>\n",
              "      <th>1</th>\n",
              "      <td>I went this bar 8 days regularly with my husba...</td>\n",
              "      <td>i went this bar  days regularly with my husban...</td>\n",
              "    </tr>\n",
              "    <tr>\n",
              "      <th>2</th>\n",
              "      <td>We were few friends and was a birthday celebra...</td>\n",
              "      <td>we were few friends and was a birthday celebra...</td>\n",
              "    </tr>\n",
              "    <tr>\n",
              "      <th>3</th>\n",
              "      <td>Fatjar Cafe and Market is the perfect place fo...</td>\n",
              "      <td>fatjar cafe and market is the perfect place fo...</td>\n",
              "    </tr>\n",
              "    <tr>\n",
              "      <th>4</th>\n",
              "      <td>Hey Guys, if you are craving for pizza and sea...</td>\n",
              "      <td>hey guys if you are craving for pizza and sear...</td>\n",
              "    </tr>\n",
              "  </tbody>\n",
              "</table>\n",
              "</div>\n",
              "      <button class=\"colab-df-convert\" onclick=\"convertToInteractive('df-295b89d9-da99-4b0c-83e6-e001bc7104fc')\"\n",
              "              title=\"Convert this dataframe to an interactive table.\"\n",
              "              style=\"display:none;\">\n",
              "        \n",
              "  <svg xmlns=\"http://www.w3.org/2000/svg\" height=\"24px\"viewBox=\"0 0 24 24\"\n",
              "       width=\"24px\">\n",
              "    <path d=\"M0 0h24v24H0V0z\" fill=\"none\"/>\n",
              "    <path d=\"M18.56 5.44l.94 2.06.94-2.06 2.06-.94-2.06-.94-.94-2.06-.94 2.06-2.06.94zm-11 1L8.5 8.5l.94-2.06 2.06-.94-2.06-.94L8.5 2.5l-.94 2.06-2.06.94zm10 10l.94 2.06.94-2.06 2.06-.94-2.06-.94-.94-2.06-.94 2.06-2.06.94z\"/><path d=\"M17.41 7.96l-1.37-1.37c-.4-.4-.92-.59-1.43-.59-.52 0-1.04.2-1.43.59L10.3 9.45l-7.72 7.72c-.78.78-.78 2.05 0 2.83L4 21.41c.39.39.9.59 1.41.59.51 0 1.02-.2 1.41-.59l7.78-7.78 2.81-2.81c.8-.78.8-2.07 0-2.86zM5.41 20L4 18.59l7.72-7.72 1.47 1.35L5.41 20z\"/>\n",
              "  </svg>\n",
              "      </button>\n",
              "      \n",
              "  <style>\n",
              "    .colab-df-container {\n",
              "      display:flex;\n",
              "      flex-wrap:wrap;\n",
              "      gap: 12px;\n",
              "    }\n",
              "\n",
              "    .colab-df-convert {\n",
              "      background-color: #E8F0FE;\n",
              "      border: none;\n",
              "      border-radius: 50%;\n",
              "      cursor: pointer;\n",
              "      display: none;\n",
              "      fill: #1967D2;\n",
              "      height: 32px;\n",
              "      padding: 0 0 0 0;\n",
              "      width: 32px;\n",
              "    }\n",
              "\n",
              "    .colab-df-convert:hover {\n",
              "      background-color: #E2EBFA;\n",
              "      box-shadow: 0px 1px 2px rgba(60, 64, 67, 0.3), 0px 1px 3px 1px rgba(60, 64, 67, 0.15);\n",
              "      fill: #174EA6;\n",
              "    }\n",
              "\n",
              "    [theme=dark] .colab-df-convert {\n",
              "      background-color: #3B4455;\n",
              "      fill: #D2E3FC;\n",
              "    }\n",
              "\n",
              "    [theme=dark] .colab-df-convert:hover {\n",
              "      background-color: #434B5C;\n",
              "      box-shadow: 0px 1px 3px 1px rgba(0, 0, 0, 0.15);\n",
              "      filter: drop-shadow(0px 1px 2px rgba(0, 0, 0, 0.3));\n",
              "      fill: #FFFFFF;\n",
              "    }\n",
              "  </style>\n",
              "\n",
              "      <script>\n",
              "        const buttonEl =\n",
              "          document.querySelector('#df-295b89d9-da99-4b0c-83e6-e001bc7104fc button.colab-df-convert');\n",
              "        buttonEl.style.display =\n",
              "          google.colab.kernel.accessAllowed ? 'block' : 'none';\n",
              "\n",
              "        async function convertToInteractive(key) {\n",
              "          const element = document.querySelector('#df-295b89d9-da99-4b0c-83e6-e001bc7104fc');\n",
              "          const dataTable =\n",
              "            await google.colab.kernel.invokeFunction('convertToInteractive',\n",
              "                                                     [key], {});\n",
              "          if (!dataTable) return;\n",
              "\n",
              "          const docLinkHtml = 'Like what you see? Visit the ' +\n",
              "            '<a target=\"_blank\" href=https://colab.research.google.com/notebooks/data_table.ipynb>data table notebook</a>'\n",
              "            + ' to learn more about interactive tables.';\n",
              "          element.innerHTML = '';\n",
              "          dataTable['output_type'] = 'display_data';\n",
              "          await google.colab.output.renderOutput(dataTable, element);\n",
              "          const docLink = document.createElement('div');\n",
              "          docLink.innerHTML = docLinkHtml;\n",
              "          element.appendChild(docLink);\n",
              "        }\n",
              "      </script>\n",
              "    </div>\n",
              "  </div>\n",
              "  "
            ]
          },
          "metadata": {},
          "execution_count": 19
        }
      ],
      "source": [
        "df['review_clear'] = df['text_tagless'].apply(lambda text: remove_pattern(text, PUNCT_PATTERN))\n",
        "df[['review_full', 'review_clear']].head()"
      ]
    },
    {
      "cell_type": "markdown",
      "id": "c7e6d8f4",
      "metadata": {
        "id": "c7e6d8f4"
      },
      "source": [
        "## Tockenization"
      ]
    },
    {
      "cell_type": "code",
      "execution_count": null,
      "id": "35490d73",
      "metadata": {
        "id": "35490d73"
      },
      "outputs": [],
      "source": [
        "tokenizer = WordPunctTokenizer()"
      ]
    },
    {
      "cell_type": "code",
      "execution_count": null,
      "id": "29f2175e",
      "metadata": {
        "id": "29f2175e"
      },
      "outputs": [],
      "source": []
    },
    {
      "cell_type": "markdown",
      "id": "f4a5c22e",
      "metadata": {
        "id": "f4a5c22e"
      },
      "source": [
        "# Models\n",
        "\n",
        "- [Word2Vec](http://localhost:8888/notebooks/main.ipynb#Word2Vec) + Classification\n",
        "    - Random Forest\n",
        "    - Naive Bayes\n",
        "    - KNN\n",
        "    - XGBoost\n",
        "- LSTM\n",
        "- Bi-Directional LSTM\n",
        "- Encoder-Decoder Models (Seq2Seq Models)\n",
        "- Attention Models\n",
        "- Transformers - Attention is all you need\n",
        "- BERT"
      ]
    },
    {
      "cell_type": "markdown",
      "id": "d9428d1f",
      "metadata": {
        "id": "d9428d1f"
      },
      "source": [
        "## Word2Vec\n",
        "[link](https://github.com/BigWheel92/sentiment-analysis-using-word2vec/blob/main/code.ipynb)"
      ]
    },
    {
      "cell_type": "code",
      "execution_count": null,
      "id": "6dd10ce7",
      "metadata": {
        "id": "6dd10ce7"
      },
      "outputs": [],
      "source": []
    },
    {
      "cell_type": "code",
      "execution_count": null,
      "id": "4965f5be",
      "metadata": {
        "id": "4965f5be"
      },
      "outputs": [],
      "source": []
    },
    {
      "cell_type": "code",
      "execution_count": null,
      "id": "fc4372a2",
      "metadata": {
        "id": "fc4372a2"
      },
      "outputs": [],
      "source": []
    },
    {
      "cell_type": "code",
      "execution_count": null,
      "id": "3370a9fc",
      "metadata": {
        "id": "3370a9fc"
      },
      "outputs": [],
      "source": []
    },
    {
      "cell_type": "code",
      "execution_count": null,
      "id": "c70f5aaa",
      "metadata": {
        "id": "c70f5aaa"
      },
      "outputs": [],
      "source": []
    }
  ],
  "metadata": {
    "kernelspec": {
      "display_name": "Python 3",
      "name": "python3"
    },
    "language_info": {
      "name": "python"
    },
    "colab": {
      "provenance": []
    }
  },
  "nbformat": 4,
  "nbformat_minor": 5
}